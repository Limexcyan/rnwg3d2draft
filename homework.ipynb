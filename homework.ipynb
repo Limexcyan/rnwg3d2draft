{
 "cells": [
  {
   "cell_type": "markdown",
   "source": [
    "Zadanie 1. [1 punkt za całość]\n",
    "\n",
    "Korzystając z przedstawionych w `geo_im_trans.ipynb` geometrycznych transformacji obrazów, przekształć `images/tire_demo.jpg` tak, aby zawierał rozwinięty bok opony. Postaraj się, aby przekształcony prostokąt nie zawierał przyjętych informacji technicznych o oponie"
   ],
   "metadata": {
    "collapsed": false
   },
   "id": "752cd308e9fc65fe"
  },
  {
   "cell_type": "code",
   "execution_count": null,
   "outputs": [],
   "source": [
    "# Miejsce na rozwiązanie\n",
    "\n"
   ],
   "metadata": {
    "collapsed": false
   },
   "id": "e69442854a934150"
  },
  {
   "cell_type": "markdown",
   "source": [
    "Zadanie 2 [1 punkt za całość] *Zadanie 2 zostanie uwzględnione przy ocenie projektu i przygotowaniu feedbacku, niemniej wszystkie odpowiedzi pozostaną anonimowe.*\n",
    "\n",
    "Opisz co uważasz o **prezentacji**.\n",
    "\n",
    "a) [1/2 punktu] Napisz jakie były jej dobre aspekty. Zwróc uwagę na treść, która została przekazana. Czy dowiedziałeś się czegoś nowego? Co to było?\n",
    "\n",
    "b) [1/2 punktu] Napisz co byś poprawił w prezentacji\n",
    "\n",
    "*Jeśli jesteś autorem prezentacji:\n",
    "\n",
    "c) [1 punkt] Napisz co było dla ciebie ciekawe/nowe/nudne w temacie. Czy uważasz, że ten temat jest potrzebny?\n",
    "\n",
    "*tu wpisz swoją odpowiedź*"
   ],
   "metadata": {
    "collapsed": false
   },
   "id": "4568917577dda8d"
  }
 ],
 "metadata": {
  "kernelspec": {
   "display_name": "Python 3",
   "language": "python",
   "name": "python3"
  },
  "language_info": {
   "codemirror_mode": {
    "name": "ipython",
    "version": 2
   },
   "file_extension": ".py",
   "mimetype": "text/x-python",
   "name": "python",
   "nbconvert_exporter": "python",
   "pygments_lexer": "ipython2",
   "version": "2.7.6"
  }
 },
 "nbformat": 4,
 "nbformat_minor": 5
}
